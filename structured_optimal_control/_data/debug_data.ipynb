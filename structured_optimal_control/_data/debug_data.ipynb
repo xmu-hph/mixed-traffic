{
 "cells": [
  {
   "cell_type": "code",
   "execution_count": 11,
   "id": "013364a4-e499-4cf7-aa71-e44892a49a4a",
   "metadata": {},
   "outputs": [
    {
     "name": "stdout",
     "output_type": "stream",
     "text": [
      "dict_keys(['__header__', '__version__', '__globals__', 'A', 'B1', 'B2', 'CR', 'K', 'Q', 'R', 'alpha', 'beta', 's_go', 's_st', 's_star', 'v_star'])\n"
     ]
    }
   ],
   "source": [
    "import scipy.io\n",
    "# 加载 .mat 文件\n",
    "mat = scipy.io.loadmat('./example_setup_and_controller.mat')\n",
    "# 查看 mat 文件中的所有变量\n",
    "print(mat.keys())"
   ]
  },
  {
   "cell_type": "code",
   "execution_count": 14,
   "id": "1d854ed2-2f2f-4be3-b3ed-4831bf64261b",
   "metadata": {},
   "outputs": [
    {
     "name": "stdout",
     "output_type": "stream",
     "text": [
      "[[35.82249165]\n",
      " [35.40739337]\n",
      " [38.69941032]\n",
      " [32.64779026]\n",
      " [33.18074075]\n",
      " [31.19214541]\n",
      " [39.3982947 ]\n",
      " [36.45551875]\n",
      " [34.79463225]\n",
      " [36.39316961]\n",
      " [35.44716111]\n",
      " [36.4731148 ]\n",
      " [35.43885934]\n",
      " [37.21046621]\n",
      " [35.22495306]\n",
      " [39.93704624]\n",
      " [32.18676632]\n",
      " [31.05798273]\n",
      " [31.09697465]\n",
      " [30.63591371]]\n"
     ]
    }
   ],
   "source": [
    "# 访问特定变量，例如 'data'，并打印其内容\n",
    "data = mat['s_go']  # 假设文件中有一个变量叫 'data'\n",
    "print(data)"
   ]
  },
  {
   "cell_type": "code",
   "execution_count": 7,
   "id": "a775385f-e8ae-47e9-9d52-d96d6324fc31",
   "metadata": {},
   "outputs": [
    {
     "name": "stdout",
     "output_type": "stream",
     "text": [
      "[[17.3463336  13.9841146  17.65643764 17.03067645 15.97490478 14.15274545\n",
      "  13.87422369 11.71081969 13.73341603 15.38936475 14.68437969 16.16361899\n",
      "  15.10816673 17.51541175 11.77746565 14.70970849 15.71853992 12.49737656\n",
      "  15.89064117 11.41553585]]\n"
     ]
    }
   ],
   "source": [
    "# 访问特定变量，例如 'data'，并打印其内容\n",
    "data = mat['InitialVelocity']  # 假设文件中有一个变量叫 'data'\n",
    "print(data)"
   ]
  },
  {
   "cell_type": "code",
   "execution_count": null,
   "id": "8da669ee-6da5-4f04-bf81-3b9255ea540c",
   "metadata": {},
   "outputs": [],
   "source": []
  }
 ],
 "metadata": {
  "kernelspec": {
   "display_name": "Python 3 (ipykernel)",
   "language": "python",
   "name": "python3"
  },
  "language_info": {
   "codemirror_mode": {
    "name": "ipython",
    "version": 3
   },
   "file_extension": ".py",
   "mimetype": "text/x-python",
   "name": "python",
   "nbconvert_exporter": "python",
   "pygments_lexer": "ipython3",
   "version": "3.9.19"
  }
 },
 "nbformat": 4,
 "nbformat_minor": 5
}
